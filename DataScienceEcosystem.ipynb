{
 "cells": [
  {
   "cell_type": "markdown",
   "id": "fe3b45ba-9368-401f-a15f-bcef5929fbba",
   "metadata": {},
   "source": [
    "# Data Science Tools and Ecosystem"
   ]
  },
  {
   "cell_type": "markdown",
   "id": "f97b75c2-9e9f-464d-85a7-0a62f8c08690",
   "metadata": {},
   "source": [
    "In this notebook, I provide a summary of the tools and Ecosystems used in Data Science."
   ]
  },
  {
   "cell_type": "markdown",
   "id": "c33fc946-d577-4a0c-8523-774b79b30105",
   "metadata": {},
   "source": [
    "### **Objectives**\n",
    "* List popular languages for Data Science\n",
    "* Name libraries used for Data Science\n",
    "* Perform simple arithmetic operations\n",
    "* Learn how to use Jupyter Notebook for simple tasks"
   ]
  },
  {
   "cell_type": "markdown",
   "id": "faa13f8d-4d9f-4b61-960d-341deffbd89b",
   "metadata": {},
   "source": [
    "Some of the popular languages that Data Scientists use are:\n",
    "1. Python\n",
    "2. SQL\n",
    "3. R"
   ]
  },
  {
   "cell_type": "markdown",
   "id": "fa50c2d2-deb7-4268-b91a-fff2ba6b3c37",
   "metadata": {},
   "source": [
    "Some of the commonly used libraries used by Data Scientists include:\n",
    "1. Pandas\n",
    "2. Matplotlib\n",
    "3. NumPy"
   ]
  },
  {
   "cell_type": "markdown",
   "id": "b63039f3-e914-4f2c-86e9-7feb313531c6",
   "metadata": {},
   "source": [
    "|Data Science Tools|\n",
    "|------------------|\n",
    "|Jupyter Notebook  |\n",
    "|RStudio           |\n",
    "|Apache Zeppelin   |"
   ]
  },
  {
   "cell_type": "markdown",
   "id": "427918ee-e68a-4fbb-9e15-50e9329ae9d5",
   "metadata": {},
   "source": [
    "### Below are a few examples of evaluating arithmetic expressions in Python."
   ]
  },
  {
   "cell_type": "code",
   "execution_count": 22,
   "id": "1c73e533-0fbd-47e2-ac3b-017ef0283d83",
   "metadata": {},
   "outputs": [
    {
     "data": {
      "text/plain": [
       "17"
      ]
     },
     "execution_count": 22,
     "metadata": {},
     "output_type": "execute_result"
    }
   ],
   "source": [
    "# This a simple arithmetic expression to mutiply then add integers.\n",
    "(3*4)+5"
   ]
  },
  {
   "cell_type": "code",
   "execution_count": 32,
   "id": "5f46828f-18f4-4bec-85b8-b97abce3afb3",
   "metadata": {},
   "outputs": [
    {
     "data": {
      "text/plain": [
       "3.3333333333333335"
      ]
     },
     "execution_count": 32,
     "metadata": {},
     "output_type": "execute_result"
    }
   ],
   "source": [
    "# This will convert 200 minutes to hours by diving by 60\n",
    "minutes = 200\n",
    "hours = minutes / 60\n",
    "hours"
   ]
  },
  {
   "cell_type": "markdown",
   "id": "0fec898d-5daf-43af-b043-2692df747b91",
   "metadata": {},
   "source": [
    "## Author\n",
    "Ashley Packard"
   ]
  },
  {
   "cell_type": "code",
   "execution_count": null,
   "id": "95668577-f718-4331-988a-fe77359287d5",
   "metadata": {},
   "outputs": [],
   "source": []
  }
 ],
 "metadata": {
  "kernelspec": {
   "display_name": "Python 3 (ipykernel)",
   "language": "python",
   "name": "python3"
  },
  "language_info": {
   "codemirror_mode": {
    "name": "ipython",
    "version": 3
   },
   "file_extension": ".py",
   "mimetype": "text/x-python",
   "name": "python",
   "nbconvert_exporter": "python",
   "pygments_lexer": "ipython3",
   "version": "3.12.4"
  }
 },
 "nbformat": 4,
 "nbformat_minor": 5
}
